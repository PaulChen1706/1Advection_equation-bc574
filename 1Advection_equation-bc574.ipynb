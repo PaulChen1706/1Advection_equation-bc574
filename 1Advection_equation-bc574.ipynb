{
 "cells": [
  {
   "cell_type": "markdown",
   "id": "dd67d0dc",
   "metadata": {},
   "source": [
    "# Before we start:"
   ]
  },
  {
   "cell_type": "markdown",
   "id": "ac98ec62",
   "metadata": {},
   "source": [
    "## Setup"
   ]
  },
  {
   "cell_type": "code",
   "execution_count": null,
   "id": "d6021ec1",
   "metadata": {},
   "outputs": [],
   "source": [
    "%matplotlib ipympl\n",
    "import numpy as np\n",
    "import matplotlib.pyplot as plt\n",
    "import matplotlib.animation as animation"
   ]
  },
  {
   "cell_type": "markdown",
   "id": "361b6584",
   "metadata": {},
   "source": [
    "**Important note**: You might need to install ipyml. To do so, use either <code>pip install ipympl</code> or <code>conda install -c conda-forge ipympl</code>, depending on your Python distribution. You might also have to replace <code>%matplotlib notebook</code> by <code>%matplotlib ipyml</code> in the previous cell (and re-run it)"
   ]
  },
  {
   "cell_type": "markdown",
   "id": "0450f329",
   "metadata": {},
   "source": [
    "## Hints"
   ]
  },
  {
   "cell_type": "markdown",
   "id": "992a5ed3",
   "metadata": {},
   "source": [
    "$ \\bullet $ Don't forget the periodic boundary conditions when writing your schemes. \\\n",
    "$ \\bullet $ The method <code>np.roll</code> will help you a lot. But if you want a small challenge, you can decide not to use it. \\\n",
    "$ \\bullet $ In Python, <code> f[:] = </code> updates the content of the array whereas <code> f = </code> creates a new array. \\\n",
    "$ \\bullet $ You can pause an animation called \"anim\" using <code>anim.pause()</code>, and resume it using <code>anim.resume()</code>. \\\n",
    "$ \\bullet $ There are several ways to define the Fourier transform. They all work, but be careful of using the same convention when taking the Fourier transform and the inverse Fourier transform. \\\n",
    "$ \\bullet $ When writing your spectral scheme, don't write your own Fourier transform. Use the functions provided by numpy, <code> np.fft.fft </code> and <code> np.fft.ifft </code>. \\\n",
    "$ \\bullet $ Numerical implementations of FFT commonly rearrange the positive and negative frequencies. For A = fft(a), the zero frequency component is ```A[0]```, the positive frequency components are ```A[1:N/2]```, and the negative frequencies are ```[N/2+1:]```. Numpy's ```fftfreq``` function returns frequencies $k$ for a given grid spacing $\\Delta x$ and takes this reordering into account. \\\n",
    "$ \\bullet $ When writing your spectral code, you still have to solve an ODE. Remember the lecture on ODEs and make sure to choose a scheme that is stable."
   ]
  },
  {
   "cell_type": "markdown",
   "id": "7bb279dd",
   "metadata": {},
   "source": [
    "<br/><br/>"
   ]
  },
  {
   "cell_type": "markdown",
   "id": "178291d6",
   "metadata": {},
   "source": [
    "# Solving partial differential equations"
   ]
  },
  {
   "cell_type": "markdown",
   "id": "e0028c8c",
   "metadata": {},
   "source": [
    "## Goal\n",
    "\n",
    "Write three programs that all calculate the solution to the same advection equation $ \\frac{\\partial f}{\\partial t} = - v \\frac{\\partial f}{\\partial x} $.\n",
    "\n",
    "Compare your programs to the analytical results, and to each other. Conclude on the strength and weaknesses of each approach."
   ]
  },
  {
   "cell_type": "markdown",
   "id": "cd979adc",
   "metadata": {},
   "source": [
    "## Physics\n",
    "\n",
    "Partial differential equations (PDEs) are omnipresent in physics. They are our best tools to represent the behavior of fluids (Navier-Stokes equations), of quantum-mechanical systems (Schrödinger equation), of spacetime (Einstein field equation), of electromagnetic waves (Maxwell's equations), ...\n",
    "\n",
    "PDEs also have a lot of industrial applications. In aerospace engineering, they help optimize the shape of plane wings. In architecture, they help ensure the structural integrity of buildings. In micro-electronics, they help reduce the leakage currents of chips. This led to the development of many professional, millions-of-line-long codes that specialise in solving PDEs. Examples include Abaqus, ANSYS, ...\n",
    "\n",
    "Fortunately, physicists are generally faced with simpler PDEs than engineers, at least in terms of geometry. This problem offers to face the cleanest of PDEs, the advection equation, and to solve it using three different 10-lines-long codes. This is enough to introduce the concepts of convergence and stability, which are the first things to consider when choosing a PDE solver."
   ]
  },
  {
   "cell_type": "markdown",
   "id": "ac52e112",
   "metadata": {},
   "source": [
    "The advection equation is the equation that governs the evolution of a scalar field ${ f }$ that is advected at a constant velocity ${ v }$. For instance, you could use the advection equation to predict the future position and shape of an ink drop that you just put in a river. The advection equation writes\n",
    "\n",
    "$$\n",
    "\\begin{cases}\n",
    "    f (x, t = 0) = f_{0} (x) , \\\\\n",
    "    \\frac{\\partial f}{\\partial t} = - v \\frac{\\partial f}{\\partial x} .\n",
    "\\end{cases}\n",
    "$$\n",
    "\n",
    "The first equation is the initial condition (how much ink did you put, and where?), and the second equation is the evolution equation (how does the ink move?). The analytical solution is quite simply\n",
    "\n",
    "$$\n",
    "f(x, t) = f_{0} (x - v t).\n",
    "$$\n",
    "This analytical solution can be obtained using the [method of characteristics](https://en.wikipedia.org/wiki/Method_of_characteristics#Example).\n",
    "\n",
    "For this problem, we will set ${ f_{0} = \\mathrm{e}^{ - x^{2} / 2 } }$ and ${ v = 0.1 }$. We will also restrict the spatial domain to ${ x \\in [-5, 5[ }$ and assume that ${ x = -5 }$ and ${ x = 5 }$ represent the same point. This is called using periodic boundary conditions. Finally, we will integrate the equation for a time ${ t_{\\text{max}} = 100 }$. \n",
    "\n",
    "This way, the analytical solution at time ${ t_{\\text{max}} }$ is ${ f_{0} }$. This will allow us to check our algorithms easily."
   ]
  },
  {
   "cell_type": "code",
   "execution_count": null,
   "id": "6cd033cf",
   "metadata": {},
   "outputs": [],
   "source": [
    "# Let's define the parameters\n",
    "\n",
    "# physics\n",
    "v = 10.0**(-1) # advection speed\n",
    "\n",
    "# domain\n",
    "x_min = -5.0\n",
    "x_max = 5.0\n",
    "\n",
    "# initial condition\n",
    "class Gaussian:\n",
    "    def __init__(self, center = 0.0, width = 1.0, amplitude = 1.0):\n",
    "        self.center = center\n",
    "        self.width = width\n",
    "        self.amplitude = amplitude\n",
    "    \n",
    "    def __call__(self, x):\n",
    "        return self.amplitude * np.exp(- (x - self.center)**2 / (2 * self.width**2))\n",
    "\n",
    "gaussian = Gaussian() \n",
    "    # gaussian is a function that can take a scalar and return a scalar, \n",
    "    # or take a numpy array and return a numpy array"
   ]
  },
  {
   "cell_type": "code",
   "execution_count": null,
   "id": "adf017b8",
   "metadata": {
    "scrolled": false
   },
   "outputs": [],
   "source": [
    "# let's see what the initial condition looks like\n",
    "\n",
    "X_example = np.linspace(x_min, x_max, 10**2, endpoint = True)\n",
    "f0_example = gaussian(X_example)\n",
    "\n",
    "fig = plt.figure()\n",
    "ax = fig.gca()\n",
    "\n",
    "ax.set_xlim(x_min, x_max)\n",
    "ax.set_ylim(-0.1, 1.5)\n",
    "\n",
    "ax.set_xlabel(r'$x$')\n",
    "ax.set_ylabel(r'$f_{0}(x)$')\n",
    "\n",
    "plt.plot(X_example, f0_example, 'b--')\n",
    "\n",
    "plt.show()"
   ]
  },
  {
   "cell_type": "markdown",
   "id": "97897ef2",
   "metadata": {},
   "source": [
    "<br/><br/>"
   ]
  },
  {
   "cell_type": "markdown",
   "id": "27ce678e",
   "metadata": {},
   "source": [
    "## Tasks"
   ]
  },
  {
   "cell_type": "markdown",
   "id": "9cdf1261",
   "metadata": {},
   "source": [
    "### Core task 1"
   ]
  },
  {
   "cell_type": "markdown",
   "id": "77452745",
   "metadata": {},
   "source": [
    "Our first algorithm will use the explicit upwind scheme. It is arguably the simplest algorithm within the class of finite difference schemes. \n",
    "\n",
    "The first idea is to discretize time and space. We will have instants ${ 0, \\Delta t, 2 \\Delta t, ..., T }$ and positions ${ -5, -5 + \\Delta x, -5 + 2 \\Delta x, ..., 5 - \\Delta x }$. It is common practice to denote the time-frames with the subscript ${ ^{n} }$ and the cells with the superscript ${ _{i} }$. This leads to the notation\n",
    "\n",
    "$$\n",
    "f(n \\Delta t, -5 + i \\Delta x) = f(t^{n}, x_{i}) = f^{n}_{i} .\n",
    "$$"
   ]
  },
  {
   "cell_type": "code",
   "execution_count": null,
   "id": "28e7b290",
   "metadata": {},
   "outputs": [],
   "source": [
    "# Let's define the parameters\n",
    "\n",
    "# grid\n",
    "n_points_space = 10**3\n",
    "dx = (x_max - x_min) / n_points_space\n",
    "dt = 0.05"
   ]
  },
  {
   "cell_type": "markdown",
   "id": "6097a908",
   "metadata": {},
   "source": [
    "The second idea is to replace the time derivative on the left hand side by\n",
    "$$\n",
    "\\frac{f^{n+1}_{i} - f^{n}_{i}}{\\Delta t} ,\n",
    "$$\n",
    "and the space derivative on the right-hand side by\n",
    "$$\n",
    "\\frac{f^{n}_{i} - f^{n}_{i - 1}}{\\Delta x} .\n",
    "$$\n",
    "From the definition of the partial derivative, it is intuitive that if ${ \\Delta t }$ and ${ \\Delta x }$ are both small, this replacement should not cause a big error.\n",
    "\n",
    "This trick leaves us with the equation\n",
    "$$\n",
    "f^{n+1}_{i} = f^{n}_{i} + dt \\times -v \\frac{f^{n}_{i} - f^{n}_{i - 1}}{\\Delta x}\n",
    "$$\n",
    "which gives ${ f^{n+1} }$ from ${ f^{n} }$. This will allow us to easily the initial condition time-frame by time-frame all the way to ${ t_{\\text{max}} }$."
   ]
  },
  {
   "cell_type": "markdown",
   "id": "e5830f73",
   "metadata": {},
   "source": [
    "**Implement the explicit upwind scheme by completing the following piece of code.**"
   ]
  },
  {
   "cell_type": "code",
   "execution_count": null,
   "id": "0459e2d5",
   "metadata": {},
   "outputs": [],
   "source": [
    "def Upwind_explicit(v, n_points_space, dx, dt):\n",
    "    df_dt = np.zeros(n_points_space, dtype = np.float64)\n",
    "\n",
    "    def step(f):\n",
    "        df_dt = -v*(f-np.roll(f,1))/dx\n",
    "\n",
    "        f[:] += dt * df_dt\n",
    "    \n",
    "    return step"
   ]
  },
  {
   "cell_type": "markdown",
   "id": "d04ddfad",
   "metadata": {},
   "source": [
    "**To sanity-check on your code, run the following piece of code and convince yourself that your scheme solves the advection equation correctly**"
   ]
  },
  {
   "cell_type": "code",
   "execution_count": null,
   "id": "05a9e632",
   "metadata": {
    "scrolled": true
   },
   "outputs": [],
   "source": [
    "# initial condition\n",
    "X = np.linspace(x_min, x_max, n_points_space, endpoint = True)\n",
    "f0 = gaussian(X)\n",
    "f = f0.copy()\n",
    "\n",
    "# scheme\n",
    "step = Upwind_explicit(v, n_points_space, dx, dt)\n",
    "\n",
    "# preparation of the animation\n",
    "fig = plt.figure()\n",
    "ax = fig.gca()\n",
    "\n",
    "ax.set_xlim(x_min, x_max)\n",
    "ax.set_ylim(-0.1, 1.5)\n",
    "\n",
    "ax.set_xlabel(r'$x$')\n",
    "ax.set_ylabel(r'$f(x, t)$')\n",
    "\n",
    "show_f0, = ax.plot(X, f0, 'b--', label = \"f0\")\n",
    "show_ft, = ax.plot([], [], 'b', lw = 1, ms = 2, label = \"f\")\n",
    "time = ax.annotate(0, xy = (3, 1.4), xytext = (3, 1.4))\n",
    "\n",
    "# integration\n",
    "def animate(i):\n",
    "    step(f)\n",
    "\n",
    "    show_ft.set_data(X, f)\n",
    "    \n",
    "    time.set_text(\"t / T = %.2f\" % (v * i * dt / (x_max - x_min)))\n",
    "\n",
    "    return show_f0, show_ft\n",
    "\n",
    "# creation of the animation\n",
    "anim = animation.FuncAnimation(fig, animate, 10**5, interval = dt * 10, blit = True)\n",
    "\n",
    "# show the results\n",
    "plt.show()"
   ]
  },
  {
   "cell_type": "markdown",
   "id": "a3ae835c",
   "metadata": {},
   "source": [
    "**Explore the errors made by your code. What happens if you wait for a few periods?**"
   ]
  },
  {
   "cell_type": "markdown",
   "id": "b3784f38",
   "metadata": {},
   "source": [
    "The gaussian spreads out and the error increases"
   ]
  },
  {
   "cell_type": "markdown",
   "id": "1f4509cc",
   "metadata": {},
   "source": [
    "**Run the same code, but with a larger ${ \\Delta t }$ of 1.1. What happens?**"
   ]
  },
  {
   "cell_type": "code",
   "execution_count": null,
   "id": "1102999a",
   "metadata": {},
   "outputs": [],
   "source": [
    "# initial condition\n",
    "dt=1.1\n",
    "X = np.linspace(x_min, x_max, n_points_space, endpoint = True)\n",
    "f0 = gaussian(X)\n",
    "f = f0.copy()\n",
    "\n",
    "# scheme\n",
    "step = Spectral(v, n_points_space, dx, dt)\n",
    "\n",
    "# preparation of the animation\n",
    "fig = plt.figure()\n",
    "ax = fig.gca()\n",
    "\n",
    "ax.set_xlim(x_min, x_max)\n",
    "ax.set_ylim(-0.1, 1.5)\n",
    "\n",
    "ax.set_xlabel(r'$x$')\n",
    "ax.set_ylabel(r'$f(x, t)$')\n",
    "\n",
    "show_f0, = ax.plot(X, f0, 'b--', label = \"f0\")\n",
    "show_ft, = ax.plot([], [], 'b', lw = 1, ms = 2, label = \"f\")\n",
    "time = ax.annotate(0, xy = (3, 1.4), xytext = (3, 1.4))\n",
    "\n",
    "# integration\n",
    "def animate(i):\n",
    "    step(f)\n",
    "\n",
    "    show_ft.set_data(X, f)\n",
    "    \n",
    "    time.set_text(\"t / T = %.2f\" % (v * i * dt / (x_max - x_min)))\n",
    "\n",
    "    return show_f0, show_ft\n",
    "\n",
    "# creation of the animation\n",
    "anim = animation.FuncAnimation(fig, animate, 10**5, interval = dt * 10, blit = True)\n",
    "\n",
    "# show the results\n",
    "plt.show()"
   ]
  },
  {
   "cell_type": "markdown",
   "id": "bccc2600",
   "metadata": {},
   "source": [
    "the solution diverges since the first step"
   ]
  },
  {
   "cell_type": "code",
   "execution_count": null,
   "id": "cd1ed4e6",
   "metadata": {},
   "outputs": [],
   "source": []
  },
  {
   "cell_type": "markdown",
   "id": "bcae4e4f",
   "metadata": {},
   "source": [
    "### Core task 2"
   ]
  },
  {
   "cell_type": "markdown",
   "id": "8f12d657",
   "metadata": {},
   "source": [
    "Our second algorithm will use the Lax-Wendroff scheme, which is also a finite-difference method. It is slightly more complex, but as a reward it gives results that are closer to the truth. "
   ]
  },
  {
   "cell_type": "markdown",
   "id": "8dad132c",
   "metadata": {},
   "source": [
    "The first idea is that the way we replaced the derivatives by finite differences was quite arbitrary. This time, we will use a different formula. Let us replace the spatial derivative by\n",
    "$$\n",
    "\\frac{f^{n}_{i+1} - f^{n}_{i-1}}{2 \\Delta x} .\n",
    "$$"
   ]
  },
  {
   "cell_type": "markdown",
   "id": "20cfb91d",
   "metadata": {},
   "source": [
    "The second idea is to work around the expected numerical diffusion by adding a fictitious \"retro-diffusion\" term. Without going into the mathematical details, it is possible to predict how much diffusion a finite difference will cause, and to add just the right amount of \"retro-diffusion\". The final equation is\n",
    "$$\n",
    "\\frac{f^{n+1}_{i} - f^{n}_{i}}{\\Delta t} = -v \\frac{f^{n}_{i+1} - f^{n}_{i-1}}{2 \\Delta x} + \\frac{v^{2} \\Delta t}{2} \\frac{f^{n}_{i+1} - 2 f^{n}_{i} + f^{n}_{i-1}}{\\Delta x^{2}} .\n",
    "$$"
   ]
  },
  {
   "cell_type": "markdown",
   "id": "f90f56c4",
   "metadata": {},
   "source": [
    "**Implement the Lax-Wendroff scheme.**"
   ]
  },
  {
   "cell_type": "code",
   "execution_count": null,
   "id": "019cb6a1",
   "metadata": {},
   "outputs": [],
   "source": [
    "def Lax_Wendroff(v, n_points_space, dx, dt):\n",
    "\n",
    "    def step(f):\n",
    "        f[:] = f - v * dt / (2 * dx) * (np.roll(f, -1) - np.roll(f, 1)) + v**2 * dt**2 / (2 * dx**2) * (np.roll(f, 1) - 2 * f + np.roll(f, -1))\n",
    "    \n",
    "    return step"
   ]
  },
  {
   "cell_type": "markdown",
   "id": "53b27f6b",
   "metadata": {},
   "source": [
    " **Sanity-check your code.**"
   ]
  },
  {
   "cell_type": "markdown",
   "id": "3b48e886",
   "metadata": {},
   "source": [
    "**Run a few experiments to determine under which condition the Lax-Wendroff scheme is stable**"
   ]
  },
  {
   "cell_type": "code",
   "execution_count": null,
   "id": "f814899d",
   "metadata": {},
   "outputs": [],
   "source": [
    "# initial condition\n",
    "dt=0.1\n",
    "n_points_space = 1000\n",
    "X = np.linspace(x_min, x_max, n_points_space, endpoint = True)\n",
    "f0 = gaussian(X)\n",
    "f = f0.copy()\n",
    "\n",
    "# scheme\n",
    "step = Lax_Wendroff(v, n_points_space, dx, dt)\n",
    "\n",
    "# preparation of the animation\n",
    "fig = plt.figure()\n",
    "ax = fig.gca()\n",
    "\n",
    "ax.set_xlim(x_min, x_max)\n",
    "ax.set_ylim(-0.1, 1.5)\n",
    "\n",
    "ax.set_xlabel(r'$x$')\n",
    "ax.set_ylabel(r'$f(x, t)$')\n",
    "\n",
    "show_f0, = ax.plot(X, f0, 'b--', label = \"f0\")\n",
    "show_ft, = ax.plot([], [], 'b', lw = 1, ms = 2, label = \"f\")\n",
    "time = ax.annotate(0, xy = (3, 1.4), xytext = (3, 1.4))\n",
    "\n",
    "# integration\n",
    "def animate(i):\n",
    "    step(f)\n",
    "\n",
    "    show_ft.set_data(X, f)\n",
    "    \n",
    "    time.set_text(\"t / T = %.2f\" % (v * i * dt / (x_max - x_min)))\n",
    "\n",
    "    return show_f0, show_ft\n",
    "\n",
    "# creation of the animation\n",
    "anim = animation.FuncAnimation(fig, animate, 10**5, interval = dt * 10, blit = True)\n",
    "\n",
    "# show the results\n",
    "plt.show()"
   ]
  },
  {
   "cell_type": "markdown",
   "id": "eb5c11db",
   "metadata": {},
   "source": [
    "for the same equation, the solution is stable for samll dt (approximately no bigger than 0.1s); the solution is stable at fine space grid (about highter than 75-pointspace), there is possible reverse propagation for too little pointspace\n"
   ]
  },
  {
   "cell_type": "markdown",
   "id": "cbc8d800",
   "metadata": {},
   "source": [
    "**Is the Lax-Wendroff scheme diffusive? What happens if you wait for several period?**"
   ]
  },
  {
   "cell_type": "markdown",
   "id": "b08bfd43",
   "metadata": {},
   "source": [
    "not diffusive if it is stable. This is probably beacuse the gaussian (initial condition is symmetric)"
   ]
  },
  {
   "cell_type": "markdown",
   "id": "0116969c",
   "metadata": {},
   "source": [
    "**Use the code below to measure the error made by the Lax-Wendroff scheme as a function of ${ \\Delta t }$ and ${ \\Delta x }$. How does the error scale?**"
   ]
  },
  {
   "cell_type": "code",
   "execution_count": null,
   "id": "a193f909",
   "metadata": {},
   "outputs": [],
   "source": [
    "# error for LW\n",
    "N = [(i + 1) * 10**2 for i in range(10)] + [(i + 1) * 10**3 for i in range(10)]\n",
    "ErrorsLW = [0.0 for i in range(20)]\n",
    "\n",
    "for i in range(20):\n",
    "    n = N[i]\n",
    "\n",
    "    # grid\n",
    "    n_points_space = n\n",
    "    dx = (x_max - x_min) / n_points_space\n",
    "    n_points_time = 2 * n\n",
    "    dt = 100 / n_points_time\n",
    "\n",
    "    # initial condition\n",
    "    X = np.linspace(x_min, x_max, n_points_space, endpoint = True)\n",
    "    f0 = gaussian(X)\n",
    "    f = f0.copy()\n",
    "\n",
    "    # scheme\n",
    "    step = Lax_Wendroff(v, n_points_space, dx, dt)\n",
    "    \n",
    "    # integration\n",
    "    t = 0.0\n",
    "    for j in range(n_points_time):\n",
    "        step(f)\n",
    "        t += dt\n",
    "    \n",
    "    # measure error\n",
    "    error = np.max(np.abs(f - f0))\n",
    "    ErrorsLW[i] = error\n",
    "\n",
    "# plot the results\n",
    "fig = plt.figure()\n",
    "ax = fig.gca()\n",
    "\n",
    "ax.set_xlim(N[0], N[-1])\n",
    "ax.set_ylim(10**(-6), 10**0)\n",
    "\n",
    "ax.set_xlabel(r'$n$')\n",
    "ax.set_ylabel(r'$Error \\,\\,\\, \\epsilon$')\n",
    "\n",
    "ax.set_xscale('log')\n",
    "ax.set_yscale('log')\n",
    "\n",
    "plt.plot(N, ErrorsLW, 'b')\n",
    "\n",
    "plt.show()"
   ]
  },
  {
   "cell_type": "markdown",
   "id": "6772e5ac",
   "metadata": {},
   "source": [
    "Error(LW)=O(n**-2)"
   ]
  },
  {
   "cell_type": "markdown",
   "id": "6e93ed6e",
   "metadata": {},
   "source": [
    "**Compare to the error made by the explicit upwind scheme. What scheme do you prefer, and why?**"
   ]
  },
  {
   "cell_type": "code",
   "execution_count": null,
   "id": "20843843",
   "metadata": {},
   "outputs": [],
   "source": [
    "# error for UW\n",
    "N = [(i + 1) * 10**2 for i in range(10)] + [(i + 1) * 10**3 for i in range(10)]\n",
    "ErrorsUW = [0.0 for i in range(20)]\n",
    "\n",
    "for i in range(20):\n",
    "    n = N[i]\n",
    "\n",
    "    # grid\n",
    "    n_points_space = n\n",
    "    dx = (x_max - x_min) / n_points_space\n",
    "    n_points_time = 2 * n\n",
    "    dt = 100 / n_points_time\n",
    "\n",
    "    # initial condition\n",
    "    X = np.linspace(x_min, x_max, n_points_space, endpoint = True)\n",
    "    f0 = gaussian(X)\n",
    "    f = f0.copy()\n",
    "\n",
    "    # scheme\n",
    "    step = Upwind_explicit(v, n_points_space, dx, dt)\n",
    "    \n",
    "    # integration\n",
    "    t = 0.0\n",
    "    for j in range(n_points_time):\n",
    "        step(f)\n",
    "        t += dt\n",
    "    \n",
    "    # measure error\n",
    "    error = np.max(np.abs(f - f0))\n",
    "    ErrorsUW[i] = error\n",
    "\n",
    "# plot the results\n",
    "fig = plt.figure()\n",
    "ax = fig.gca()\n",
    "\n",
    "ax.set_xlim(N[0], N[-1])\n",
    "ax.set_ylim(10**(-6), 10**0)\n",
    "\n",
    "ax.set_xlabel(r'$n$')\n",
    "ax.set_ylabel(r'$Error \\,\\,\\, \\epsilon$')\n",
    "\n",
    "ax.set_xscale('log')\n",
    "ax.set_yscale('log')\n",
    "\n",
    "plt.plot(N, ErrorsUW, 'b')\n",
    "\n",
    "plt.show()"
   ]
  },
  {
   "cell_type": "markdown",
   "id": "105cb5b2",
   "metadata": {},
   "source": [
    "Error(UW)=O(n)"
   ]
  },
  {
   "cell_type": "markdown",
   "id": "5312ea85",
   "metadata": {},
   "source": [
    "Lax-Wendroff. It doesnt diffuse and has a smaller error with acceptable timecost\n"
   ]
  },
  {
   "cell_type": "markdown",
   "id": "e0838824",
   "metadata": {},
   "source": [
    "### Core task 3"
   ]
  },
  {
   "cell_type": "markdown",
   "id": "c5a82b1a",
   "metadata": {},
   "source": [
    "So far, we have seen two finite difference methods. Our third algorithm will use a spectral method.\n",
    "\n",
    "The central idea is to decompose the solution into Fourier modes of the form\n",
    "$$\n",
    "\\hat{f} (k,t) = \\int_{-\\infty}^{+\\infty} f (x,t) \\,\\, \\mathrm{e}^{-i k x} dx. \\qquad (1)\n",
    "$$\n",
    "\n",
    "By applying a Fourier transform to the advection equation, we obtain that the evolution of a Fourier mode is governed by\n",
    "$$\n",
    "\\frac{\\partial \\hat{f}}{\\partial t} = - i v k \\hat{f} , \\qquad (2)\n",
    "$$\n",
    "which is a simple ODE.\n",
    "\n",
    "Finally, an inverse Fourier transform allows us to find the solution\n",
    "$$\n",
    "f (x,t) = \\frac{1}{2 \\pi} \\int_{-\\infty}^{+\\infty} \\hat{f} (k,t) \\,\\, \\mathrm{e}^{+ i k x} dk . \\qquad (3)\n",
    "$$"
   ]
  },
  {
   "cell_type": "markdown",
   "id": "e896e520",
   "metadata": {},
   "source": [
    "Following this idea, we deduce a simple three-step algorithm that allows us to update the numerical solution from ${ f^{n} }$ to ${ f^{n+1} }$:\n",
    "\n",
    "1. Calculate ${ \\hat{f}^{n} }$ by applying a FFT procedure to ${ f^{n} }$.\n",
    "\n",
    "2. Use equation (2) and your favorite order-1 scheme for ODEs to deduce ${ \\hat{f}^{n+1} }$ from ${ \\hat{f}^{n} }$.\n",
    "\n",
    "3. Calculate ${ f^{n+1} }$ by applying a IFFT procedure to $\\hat{f}^{n+1}$."
   ]
  },
  {
   "cell_type": "markdown",
   "id": "9b9a2209",
   "metadata": {},
   "source": [
    "**Write your own spectral scheme**"
   ]
  },
  {
   "cell_type": "code",
   "execution_count": null,
   "id": "27488c7b",
   "metadata": {},
   "outputs": [],
   "source": [
    "def Spectral(v, n_points_space, dx, dt):\n",
    "\n",
    "    def step(f):\n",
    "        f[:] = np.fft.ifft(np.fft.fft(f) * (1 -2j * dt * np.pi * v * np.fft.fftfreq(n_points_space) )).real\n",
    "    \n",
    "    return step"
   ]
  },
  {
   "cell_type": "markdown",
   "id": "0a5deced",
   "metadata": {},
   "source": [
    "**Sanity-check your code. Under which conditions is it stable? How fast does it converge? What happens when you only use 10 cells in space?**"
   ]
  },
  {
   "cell_type": "code",
   "execution_count": null,
   "id": "a6a57e1c",
   "metadata": {},
   "outputs": [],
   "source": [
    "n_points_space = 1000\n",
    "dx = (x_max - x_min) / n_points_space\n",
    "dt = 0.05\n",
    "X = np.linspace(x_min, x_max, n_points_space, endpoint = True)\n",
    "f0 = gaussian(X)\n",
    "f = f0.copy()\n",
    "\n",
    "# scheme\n",
    "step = Spectral(v, n_points_space, dx, dt)\n",
    "\n",
    "# preparation of the animation\n",
    "fig = plt.figure()\n",
    "ax = fig.gca()\n",
    "\n",
    "ax.set_xlim(x_min, x_max)\n",
    "ax.set_ylim(-0.1, 1.5)\n",
    "\n",
    "ax.set_xlabel(r'$x$')\n",
    "ax.set_ylabel(r'$f(x, t)$')\n",
    "\n",
    "show_f0, = ax.plot(X, f0, 'b--', label = \"f0\")\n",
    "show_ft, = ax.plot([], [], 'b', lw = 1, ms = 2, label = \"f\")\n",
    "time = ax.annotate(0, xy = (3, 1.4), xytext = (3, 1.4))\n",
    "\n",
    "# integration\n",
    "def animate(i):\n",
    "    step(f)\n",
    "\n",
    "    show_ft.set_data(X, f)\n",
    "    \n",
    "    time.set_text(\"t / T = %.2f\" % (v * i * dt / (x_max - x_min)))\n",
    "\n",
    "    return show_f0, show_ft\n",
    "\n",
    "# creation of the animation\n",
    "anim = animation.FuncAnimation(fig, animate, 10**5, interval = dt * 10, blit = True)\n",
    "\n",
    "# show the results\n",
    "plt.show()"
   ]
  },
  {
   "cell_type": "markdown",
   "id": "af1ba134",
   "metadata": {},
   "source": [
    "Stable at low dt(~0.1)\n",
    "\n",
    "10-cell will cause the gaussion to spread or hightened after few periods. "
   ]
  }
 ],
 "metadata": {
  "kernelspec": {
   "display_name": "Python 3",
   "language": "python",
   "name": "python3"
  },
  "language_info": {
   "codemirror_mode": {
    "name": "ipython",
    "version": 3
   },
   "file_extension": ".py",
   "mimetype": "text/x-python",
   "name": "python",
   "nbconvert_exporter": "python",
   "pygments_lexer": "ipython3",
   "version": "3.11.9"
  }
 },
 "nbformat": 4,
 "nbformat_minor": 5
}
